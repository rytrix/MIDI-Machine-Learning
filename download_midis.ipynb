{
 "cells": [
  {
   "cell_type": "code",
   "execution_count": 5,
   "metadata": {},
   "outputs": [],
   "source": [
    "import gdown\n",
    "import zipfile"
   ]
  },
  {
   "cell_type": "code",
   "execution_count": null,
   "metadata": {},
   "outputs": [
    {
     "name": "stderr",
     "output_type": "stream",
     "text": [
      "Downloading...\n",
      "From (original): https://drive.google.com/uc?id=1BDEPaEWFEB2ADquS1VYp5iLZYVngw799\n",
      "From (redirected): https://drive.google.com/uc?id=1BDEPaEWFEB2ADquS1VYp5iLZYVngw799&confirm=t&uuid=dea9934a-339c-4335-ab53-537187098f2b\n",
      "To: /var/home/ryan/Documents/debianhome/MIDI-Machine-Learning/midis.zip\n",
      "100%|██████████| 193M/193M [00:07<00:00, 26.5MB/s] \n"
     ]
    },
    {
     "data": {
      "text/plain": [
       "'midis.zip'"
      ]
     },
     "execution_count": 3,
     "metadata": {},
     "output_type": "execute_result"
    }
   ],
   "source": [
    "# Destination file path\n",
    "output = 'midis.zip'\n",
    "\n",
    "# Construct the download URL\n",
    "url = f'https://drive.google.com/uc?id=1BDEPaEWFEB2ADquS1VYp5iLZYVngw799'\n",
    "\n",
    "# Download the file\n",
    "gdown.download(url, output, quiet=False)"
   ]
  },
  {
   "cell_type": "code",
   "execution_count": 8,
   "metadata": {},
   "outputs": [],
   "source": [
    "# Unzip the file\n",
    "with zipfile.ZipFile(output, 'r') as zip_ref:\n",
    "    zip_ref.extractall('./')"
   ]
  }
 ],
 "metadata": {
  "kernelspec": {
   "display_name": ".venv",
   "language": "python",
   "name": "python3"
  },
  "language_info": {
   "codemirror_mode": {
    "name": "ipython",
    "version": 3
   },
   "file_extension": ".py",
   "mimetype": "text/x-python",
   "name": "python",
   "nbconvert_exporter": "python",
   "pygments_lexer": "ipython3",
   "version": "3.11.2"
  }
 },
 "nbformat": 4,
 "nbformat_minor": 2
}
